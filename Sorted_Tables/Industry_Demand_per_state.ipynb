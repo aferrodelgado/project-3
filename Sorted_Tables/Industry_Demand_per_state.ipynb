{
 "cells": [
  {
   "cell_type": "code",
   "execution_count": 3,
   "id": "914a991b-7ed5-4e11-b6d6-b666d9153193",
   "metadata": {},
   "outputs": [],
   "source": [
    "import requests\n",
    "import pandas as pd\n",
    "\n",
    "geoapify_key = \"ba85a93e0db14167ada7e83d81a7e7bf\""
   ]
  },
  {
   "cell_type": "code",
   "execution_count": 5,
   "id": "64d0c4c0-32ba-44c7-bab2-eb43c4333bb1",
   "metadata": {},
   "outputs": [],
   "source": [
    "# List of all U.S. states\n",
    "states = [\n",
    "    'Alabama', 'Alaska', 'Arizona', 'Arkansas', 'California', 'Colorado', 'Connecticut', \n",
    "    'Delaware', 'Florida', 'Georgia', 'Hawaii', 'Idaho', 'Illinois', 'Indiana', 'Iowa', \n",
    "    'Kansas', 'Kentucky', 'Louisiana', 'Maine', 'Maryland', 'Massachusetts', 'Michigan', \n",
    "    'Minnesota', 'Mississippi', 'Missouri', 'Montana', 'Nebraska', 'Nevada', 'New Hampshire', \n",
    "    'New Jersey', 'New Mexico', 'New York', 'North Carolina', 'North Dakota', 'Ohio', \n",
    "    'Oklahoma', 'Oregon', 'Pennsylvania', 'Rhode Island', 'South Carolina', 'South Dakota', \n",
    "    'Tennessee', 'Texas', 'Utah', 'Vermont', 'Virginia', 'Washington', 'West Virginia', \n",
    "    'Wisconsin', 'Wyoming'\n",
    "]\n",
    "\n",
    "state_coords = {}"
   ]
  },
  {
   "cell_type": "code",
   "execution_count": 21,
   "id": "d413061c-cf1e-4e19-9f5c-c40dff39247f",
   "metadata": {},
   "outputs": [],
   "source": [
    "# To get coordinates for a state\n",
    "def get_coordinates(state):\n",
    "    url = f\"https://api.geoapify.com/v1/geocode/search?text={state}, United States&apiKey={geoapify_key}\"\n",
    "    response = requests.get(url)\n",
    "    data = response.json()\n",
    "    \n",
    "def get_coordinates(state):\n",
    "    url = f\"https://api.geoapify.com/v1/geocode/search?text={state}, United States&apiKey={geoapify_key}\"\n",
    "    response = requests.get(url)\n",
    "    data = response.json()\n",
    "\n",
    "    if response.status_code == 200 and data['features']:\n",
    "        \n",
    "        coords = data['features'][0]['geometry']['coordinates']\n",
    "        return coords[1], coords[0]  \n",
    "    else:\n",
    "        print(f\"Coordinates for {state} not found.\")\n",
    "        return None, None"
   ]
  },
  {
   "cell_type": "code",
   "execution_count": 25,
   "id": "e0297ac8-2f09-4bcf-bf46-e4303b697df0",
   "metadata": {},
   "outputs": [
    {
     "name": "stdout",
     "output_type": "stream",
     "text": [
      "Alabama: 33.2588817, -86.8295337\n",
      "Alaska: 64.4459613, -149.680909\n",
      "Arizona: 34.395342, -111.763275\n",
      "Arkansas: 35.2048883, -92.4479108\n",
      "California: 36.7014631, -118.755997\n",
      "Colorado: 38.7251776, -105.607716\n",
      "Connecticut: 41.6500201, -72.7342163\n",
      "Delaware: 38.6920451, -75.4013315\n",
      "Florida: 27.7567667, -81.4639835\n",
      "Georgia: 32.3293809, -83.1137366\n",
      "Hawaii: 19.593801499999998, -155.42837009716908\n",
      "Idaho: 43.6447642, -114.015407\n",
      "Illinois: 40.0796606, -89.4337288\n",
      "Indiana: 40.3270127, -86.1746933\n",
      "Iowa: 41.9216734, -93.3122705\n",
      "Kansas: 38.27312, -98.5821872\n",
      "Kentucky: 37.5726028, -85.1551411\n",
      "Louisiana: 30.8703881, -92.007126\n",
      "Maine: 45.709097, -68.8590201\n",
      "Maryland: 39.5162401, -76.9382069\n",
      "Massachusetts: 42.3788774, -72.032366\n",
      "Michigan: 43.6211955, -84.6824346\n",
      "Minnesota: 45.9896587, -94.6113288\n",
      "Mississippi: 32.9715285, -89.7348497\n",
      "Missouri: 38.7604815, -92.5617875\n",
      "Montana: 47.3752671, -109.638757\n",
      "Nebraska: 41.7370229, -99.5873816\n",
      "Nevada: 39.5158825, -116.853722\n",
      "New Hampshire: 43.4849133, -71.6553992\n",
      "New Jersey: 40.0757384, -74.4041622\n",
      "New Mexico: 34.5802074, -105.996047\n",
      "New York: 40.7814865, -73.95905442771002\n",
      "North Carolina: 35.6729639, -79.0392919\n",
      "North Dakota: 47.6201461, -100.540737\n",
      "Ohio: 40.2253569, -82.6881395\n",
      "Oklahoma: 34.9550817, -97.2684063\n",
      "Oregon: 43.9792797, -120.737257\n",
      "Pennsylvania: 40.9699889, -77.7278831\n",
      "Rhode Island: 41.7962409, -71.5992372\n",
      "South Carolina: 33.6874388, -80.4363743\n",
      "South Dakota: 44.6471761, -100.348761\n",
      "Tennessee: 35.7730076, -86.2820081\n",
      "Texas: 31.2638905, -98.5456116\n",
      "Utah: 39.4225192, -111.714358\n",
      "Vermont: 44.5990718, -72.5002608\n",
      "Virginia: 37.1232245, -78.4927721\n",
      "Washington: 38.8950368, -77.0365427\n",
      "West Virginia: 38.4758406, -80.8408415\n",
      "Wisconsin: 44.4308975, -89.6884637\n",
      "Wyoming: 43.1700264, -107.568534\n"
     ]
    }
   ],
   "source": [
    "# Loop through states and get coordinates\n",
    "for state in states:\n",
    "    lat, lon = get_coordinates(state)\n",
    "    if lat and lon:\n",
    "        state_coords[state] = [lat, lon]\n",
    "        print(f\"{state}: {lat}, {lon}\")"
   ]
  },
  {
   "cell_type": "code",
   "execution_count": 27,
   "id": "a58b9ff5-0c1c-4f04-a8f6-8148d88f61af",
   "metadata": {},
   "outputs": [],
   "source": [
    "# Convert to DataFrame for easier manipulation\n",
    "state_coords_df = pd.DataFrame.from_dict(state_coords, orient='index', columns=['Latitude', 'Longitude'])\n",
    "state_coords_df = state_coords_df.reset_index().rename(columns={'index': 'State'})"
   ]
  },
  {
   "cell_type": "code",
   "execution_count": 29,
   "id": "62fa676b-971b-427e-80b6-de6621a2ccc5",
   "metadata": {},
   "outputs": [
    {
     "data": {
      "text/html": [
       "<div>\n",
       "<style scoped>\n",
       "    .dataframe tbody tr th:only-of-type {\n",
       "        vertical-align: middle;\n",
       "    }\n",
       "\n",
       "    .dataframe tbody tr th {\n",
       "        vertical-align: top;\n",
       "    }\n",
       "\n",
       "    .dataframe thead th {\n",
       "        text-align: right;\n",
       "    }\n",
       "</style>\n",
       "<table border=\"1\" class=\"dataframe\">\n",
       "  <thead>\n",
       "    <tr style=\"text-align: right;\">\n",
       "      <th></th>\n",
       "      <th>State</th>\n",
       "      <th>Latitude</th>\n",
       "      <th>Longitude</th>\n",
       "    </tr>\n",
       "  </thead>\n",
       "  <tbody>\n",
       "    <tr>\n",
       "      <th>0</th>\n",
       "      <td>Alabama</td>\n",
       "      <td>33.258882</td>\n",
       "      <td>-86.829534</td>\n",
       "    </tr>\n",
       "    <tr>\n",
       "      <th>1</th>\n",
       "      <td>Alaska</td>\n",
       "      <td>64.445961</td>\n",
       "      <td>-149.680909</td>\n",
       "    </tr>\n",
       "    <tr>\n",
       "      <th>2</th>\n",
       "      <td>Arizona</td>\n",
       "      <td>34.395342</td>\n",
       "      <td>-111.763275</td>\n",
       "    </tr>\n",
       "    <tr>\n",
       "      <th>3</th>\n",
       "      <td>Arkansas</td>\n",
       "      <td>35.204888</td>\n",
       "      <td>-92.447911</td>\n",
       "    </tr>\n",
       "    <tr>\n",
       "      <th>4</th>\n",
       "      <td>California</td>\n",
       "      <td>36.701463</td>\n",
       "      <td>-118.755997</td>\n",
       "    </tr>\n",
       "  </tbody>\n",
       "</table>\n",
       "</div>"
      ],
      "text/plain": [
       "        State   Latitude   Longitude\n",
       "0     Alabama  33.258882  -86.829534\n",
       "1      Alaska  64.445961 -149.680909\n",
       "2     Arizona  34.395342 -111.763275\n",
       "3    Arkansas  35.204888  -92.447911\n",
       "4  California  36.701463 -118.755997"
      ]
     },
     "execution_count": 29,
     "metadata": {},
     "output_type": "execute_result"
    }
   ],
   "source": [
    "# Saved coordinates to a CSV file\n",
    "state_coords_df.to_csv('/Users/latifahjones/Desktop/Project-3/Sorted_Tables/state_coordinates.csv', index=False)\n",
    "\n",
    "# Display the DataFrame\n",
    "state_coords_df.head()"
   ]
  },
  {
   "cell_type": "code",
   "execution_count": null,
   "id": "b071333f-3789-45eb-bd67-527afee8b60d",
   "metadata": {},
   "outputs": [],
   "source": []
  }
 ],
 "metadata": {
  "kernelspec": {
   "display_name": "Python 3 (ipykernel)",
   "language": "python",
   "name": "python3"
  },
  "language_info": {
   "codemirror_mode": {
    "name": "ipython",
    "version": 3
   },
   "file_extension": ".py",
   "mimetype": "text/x-python",
   "name": "python",
   "nbconvert_exporter": "python",
   "pygments_lexer": "ipython3",
   "version": "3.12.4"
  }
 },
 "nbformat": 4,
 "nbformat_minor": 5
}
